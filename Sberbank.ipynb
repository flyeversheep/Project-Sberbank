{
 "cells": [
  {
   "cell_type": "code",
   "execution_count": 40,
   "metadata": {
    "collapsed": false
   },
   "outputs": [],
   "source": [
    "%matplotlib inline\n",
    "import datetime\n",
    "import matplotlib.pyplot as plt\n",
    "import seaborn as snsn\n",
    "import numpy as np\n",
    "import pandas as pd\n",
    "import xgboost as xgb\n",
    "from keras import optimizers\n",
    "from keras.metrics import mean_squared_error\n",
    "from keras import regularizers\n",
    "from keras.models import Sequential\n",
    "from keras.layers import Dense,Dropout\n",
    "from keras.layers.normalization import BatchNormalization\n",
    "from keras.wrappers.scikit_learn import KerasRegressor\n",
    "from sklearn.cross_validation import cross_val_score, KFold\n",
    "from sklearn.linear_model import Lasso,Ridge\n",
    "from sklearn.preprocessing import OneHotEncoder,LabelEncoder,scale,normalize,StandardScaler,Imputer\n",
    "from sklearn.cross_validation import train_test_split\n",
    "from sklearn.pipeline import Pipeline\n",
    "from statsmodels.stats.outliers_influence import variance_inflation_factor\n",
    "from keras import backend as K"
   ]
  },
  {
   "cell_type": "markdown",
   "metadata": {},
   "source": [
    "# calculate the Variance Inflation Factor to determine collinearity in the Macro data set"
   ]
  },
  {
   "cell_type": "code",
   "execution_count": 56,
   "metadata": {
    "collapsed": false
   },
   "outputs": [],
   "source": [
    "df_test = pd.read_csv('data/test.csv',parse_dates=['timestamp'])\n",
    "df_macro = pd.read_csv('data/macro.csv',parse_dates=['timestamp'])\n",
    "\n",
    "df_macro = df_macro[df_macro['timestamp']<=max(df_test.timestamp)]\n",
    "\n",
    "\n",
    "df_macro.drop(['timestamp'],axis =1,inplace=True)\n",
    "macro_nominal = df_macro.select_dtypes(include=['object'])\n",
    "macro_numeric = df_macro.select_dtypes(exclude=['object'])\n",
    "new_macro_nominal = pd.DataFrame()\n",
    "#fill na values \n",
    "def most_common(lst):\n",
    "    return max(set(lst), key=lst.count)\n",
    "#for nominal_key in macro_nominal.keys():\n",
    "#    common_forna = most_common(list(df_macro[nominal_key].dropna()))\n",
    "#    macro_nominal[nominal_key].fillna(common_forna,inplace=True)\n",
    "#for numeric_key in macro_numeric.keys():\n",
    "    #median_forna = df_macro[numeric_key].median()\n",
    "    #macro_numeric[numeric_key].fillna(0,inplace=True)\n",
    "imputer = Imputer(strategy='median')\n",
    "macro_numeric = pd.DataFrame(imputer.fit_transform(macro_numeric),columns=macro_numeric.columns)\n",
    "for nominal_key in macro_nominal.keys():\n",
    "    new_macro_nominal[nominal_key] = pd.factorize(macro_nominal[nominal_key])[0]\n",
    "#new_macro_nominal = pd.get_dummies(macro_nominal)\n",
    "df_macro = pd.concat([new_macro_nominal,macro_numeric],axis=1)"
   ]
  },
  {
   "cell_type": "code",
   "execution_count": 57,
   "metadata": {
    "collapsed": false,
    "scrolled": true
   },
   "outputs": [
    {
     "name": "stdout",
     "output_type": "stream",
     "text": [
      "           vif                                     feature\n",
      "0          inf                     child_on_acc_pre_school\n",
      "1          inf                      modern_education_share\n",
      "2          inf                   old_education_build_share\n",
      "3   127.038991                                   oil_urals\n",
      "4    12.861786                                   gdp_quart\n",
      "5    36.302352                            gdp_quart_growth\n",
      "6   406.323465                                         cpi\n",
      "7   126.247464                                         ppi\n",
      "8          inf                                gdp_deflator\n",
      "9    14.154521                               balance_trade\n",
      "10    8.065423                        balance_trade_growth\n",
      "11  534.502404                                      usdrub\n",
      "12  226.063623                                      eurrub\n",
      "13  110.293852                                       brent\n",
      "14   10.169848                          net_capital_export\n",
      "15         inf                                  gdp_annual\n",
      "16         inf                           gdp_annual_growth\n",
      "17   11.346477         average_provision_of_build_contract\n",
      "18    5.733950  average_provision_of_build_contract_moscow\n",
      "19  124.922712                                         rts\n",
      "20   45.046502                                       micex\n",
      "21   22.324460                               micex_rgbi_tr\n",
      "22   29.171429                                micex_cbi_tr\n",
      "23  807.402959                              deposits_value\n",
      "24    2.007519                             deposits_growth\n",
      "25   14.695027                               deposits_rate\n",
      "26    5.074927                              mortgage_value\n",
      "27   55.082638                             mortgage_growth\n",
      "28   14.112451                               mortgage_rate\n",
      "29         inf                                         grp\n",
      "..         ...                                         ...\n",
      "69         inf               infant_mortarity_per_1000_cap\n",
      "70         inf                 perinatal_mort_per_1000_cap\n",
      "71         inf                        incidence_population\n",
      "72    2.591150                       rent_price_4+room_bus\n",
      "73    6.138269                        rent_price_3room_bus\n",
      "74   12.702967                        rent_price_2room_bus\n",
      "75    6.728681                        rent_price_1room_bus\n",
      "76    7.089578                        rent_price_3room_eco\n",
      "77    1.745859                        rent_price_2room_eco\n",
      "78    1.808552                        rent_price_1room_eco\n",
      "79         inf      load_of_teachers_preschool_per_teacher\n",
      "80         inf         load_of_teachers_school_per_teacher\n",
      "81         inf                     students_state_oneshift\n",
      "82         inf                           provision_doctors\n",
      "83         inf                             provision_nurse\n",
      "84         inf                             load_on_doctors\n",
      "85         inf                               power_clinics\n",
      "86         inf             hospital_beds_available_per_cap\n",
      "87         inf             hospital_bed_occupancy_per_year\n",
      "88         inf                  provision_retail_space_sqm\n",
      "89         inf           provision_retail_space_modern_sqm\n",
      "90         inf                   turnover_catering_per_cap\n",
      "91         inf               theaters_viewers_per_1000_cap\n",
      "92         inf         seats_theather_rfmin_per_100000_cap\n",
      "93         inf                  museum_visitis_per_100_cap\n",
      "94         inf                            bandwidth_sports\n",
      "95         inf                 population_reg_sports_share\n",
      "96         inf                   students_reg_sports_share\n",
      "97         inf                             apartment_build\n",
      "98         inf                          apartment_fund_sqm\n",
      "\n",
      "[99 rows x 2 columns]\n",
      "child_on_acc_pre_school inf\n",
      "apartment_build inf\n",
      "apartment_fund_sqm inf\n",
      "average_life_exp inf\n",
      "bandwidth_sports inf\n",
      "baths_share inf\n",
      "childbirth inf\n",
      "construction_value inf\n",
      "divorce_rate inf\n",
      "electric_stove_share inf\n",
      "employment inf\n",
      "fin_res_per_cap inf\n",
      "gas_share inf\n",
      "gdp_annual inf\n",
      "gdp_annual_growth inf\n",
      "gdp_deflator inf\n",
      "grp inf\n",
      "grp_growth inf\n",
      "heating_share inf\n",
      "hospital_bed_occupancy_per_year inf\n",
      "hospital_beds_available_per_cap inf\n",
      "hot_water_share inf\n",
      "housing_fund_sqm inf\n",
      "incidence_population inf\n",
      "infant_mortarity_per_1000_cap inf\n",
      "invest_fixed_assets inf\n",
      "invest_fixed_assets_phys inf\n",
      "invest_fixed_capital_per_cap inf\n",
      "labor_force inf\n",
      "load_of_teachers_preschool_per_teacher inf\n",
      "load_of_teachers_school_per_teacher inf\n",
      "load_on_doctors inf\n",
      "lodging_sqm_per_cap inf\n",
      "marriages_per_1000_cap inf\n",
      "modern_education_share inf\n",
      "mortality inf\n",
      "museum_visitis_per_100_cap inf\n",
      "old_education_build_share inf\n",
      "old_house_share inf\n",
      "overdue_wages_per_cap inf\n",
      "perinatal_mort_per_1000_cap inf\n",
      "pop_migration inf\n",
      "pop_natural_increase inf\n",
      "pop_total_inc inf\n",
      "population_reg_sports_share inf\n",
      "power_clinics inf\n",
      "profitable_enterpr_share inf\n",
      "provision_doctors inf\n",
      "provision_nurse inf\n",
      "provision_retail_space_modern_sqm inf\n",
      "provision_retail_space_sqm inf\n",
      "real_dispos_income_per_cap_growth inf\n",
      "retail_trade_turnover inf\n",
      "retail_trade_turnover_growth inf\n",
      "retail_trade_turnover_per_cap inf\n",
      "salary inf\n",
      "salary_growth inf\n",
      "seats_theather_rfmin_per_100000_cap inf\n",
      "sewerage_share inf\n",
      "share_own_revenues inf\n",
      "theaters_viewers_per_1000_cap 2169781.33185\n",
      "water_pipes_share 67765.2339338\n",
      "fixed_basket 23768.3183148\n",
      "cpi 14537.1867078\n",
      "students_state_oneshift 9005.56426829\n",
      "usdrub 2930.80853207\n",
      "students_reg_sports_share 2796.02852394\n",
      "mortgage_rate 2348.78356233\n",
      "micex 2278.20332974\n",
      "micex_cbi_tr 1464.18752057\n",
      "oil_urals 1377.75887418\n",
      "rent_price_3room_eco 1337.0269621\n",
      "micex_rgbi_tr 1180.0797579\n",
      "unprofitable_enterpr_share 1113.15805489\n",
      "ppi 884.214183142\n",
      "average_provision_of_build_contract 801.462519193\n",
      "average_provision_of_build_contract_moscow 571.71475473\n",
      "rent_price_2room_bus 556.835113545\n",
      "turnover_catering_per_cap 468.703358044\n",
      "eurrub 306.588328597\n",
      "rent_price_1room_bus 254.411040727\n",
      "rent_price_3room_bus 213.092122644\n",
      "rts 174.537487616\n",
      "gdp_quart 152.844438033\n",
      "balance_trade 101.876699885\n",
      "deposits_value 77.3545868484\n",
      "rent_price_1room_eco 73.6209143723\n",
      "rent_price_2room_eco 58.4069217382\n",
      "deposits_rate 49.3448510707\n",
      "rent_price_4+room_bus 43.259436488\n",
      "brent 24.4790545155\n",
      "income_per_cap 15.1298092285\n"
     ]
    },
    {
     "data": {
      "text/html": [
       "<div>\n",
       "<table border=\"1\" class=\"dataframe\">\n",
       "  <thead>\n",
       "    <tr style=\"text-align: right;\">\n",
       "      <th></th>\n",
       "      <th>vif</th>\n",
       "      <th>feature</th>\n",
       "    </tr>\n",
       "  </thead>\n",
       "  <tbody>\n",
       "    <tr>\n",
       "      <th>0</th>\n",
       "      <td>2.035668</td>\n",
       "      <td>balance_trade_growth</td>\n",
       "    </tr>\n",
       "    <tr>\n",
       "      <th>1</th>\n",
       "      <td>1.724629</td>\n",
       "      <td>deposits_growth</td>\n",
       "    </tr>\n",
       "    <tr>\n",
       "      <th>2</th>\n",
       "      <td>4.740973</td>\n",
       "      <td>gdp_quart_growth</td>\n",
       "    </tr>\n",
       "    <tr>\n",
       "      <th>3</th>\n",
       "      <td>5.323256</td>\n",
       "      <td>mortgage_growth</td>\n",
       "    </tr>\n",
       "    <tr>\n",
       "      <th>4</th>\n",
       "      <td>2.563096</td>\n",
       "      <td>mortgage_value</td>\n",
       "    </tr>\n",
       "    <tr>\n",
       "      <th>5</th>\n",
       "      <td>1.615984</td>\n",
       "      <td>net_capital_export</td>\n",
       "    </tr>\n",
       "    <tr>\n",
       "      <th>6</th>\n",
       "      <td>4.294144</td>\n",
       "      <td>unemployment</td>\n",
       "    </tr>\n",
       "  </tbody>\n",
       "</table>\n",
       "</div>"
      ],
      "text/plain": [
       "        vif               feature\n",
       "0  2.035668  balance_trade_growth\n",
       "1  1.724629       deposits_growth\n",
       "2  4.740973      gdp_quart_growth\n",
       "3  5.323256       mortgage_growth\n",
       "4  2.563096        mortgage_value\n",
       "5  1.615984    net_capital_export\n",
       "6  4.294144          unemployment"
      ]
     },
     "execution_count": 57,
     "metadata": {},
     "output_type": "execute_result"
    }
   ],
   "source": [
    "new_macro = df_macro.copy()\n",
    "vif = pd.DataFrame()\n",
    "vif['vif'] = [variance_inflation_factor(df_macro.values,index) for index in range(df_macro.shape[1])]\n",
    "vif['feature'] = df_macro.columns\n",
    "print(vif)\n",
    "vif[vif.vif==max(vif.vif)]\n",
    "while(max(vif.vif)>10):\n",
    "    #new_macro = new_macro[new_macro.keys()-[vif[vif.vif==max(vif.vif)].feature.iloc[0]]]\n",
    "    new_macro = new_macro[new_macro.keys().difference([vif[vif.vif==max(vif.vif)].feature.iloc[0]])]\n",
    "    print(vif[vif.vif==max(vif.vif)].feature.iloc[0]+' '+str(max(vif.vif)))\n",
    "    vif = pd.DataFrame()\n",
    "    vif['vif'] = [variance_inflation_factor(new_macro.values,index) for index in range(new_macro.shape[1])]\n",
    "    vif['feature'] = new_macro.columns\n",
    "vif   "
   ]
  },
  {
   "cell_type": "markdown",
   "metadata": {},
   "source": [
    "# Feature engineering"
   ]
  },
  {
   "cell_type": "code",
   "execution_count": 273,
   "metadata": {
    "collapsed": false,
    "scrolled": false
   },
   "outputs": [
    {
     "name": "stdout",
     "output_type": "stream",
     "text": [
      "The shape of df_train data:(30471, 290)\n",
      "The shape of df_test data:(7662, 290)\n",
      "The shape of df_all data:(38133, 302)\n"
     ]
    }
   ],
   "source": [
    "df_train = pd.read_csv('data/train.csv',parse_dates=['timestamp'])\n",
    "num_train = len(df_train)\n",
    "\n",
    "df_test = pd.read_csv('data/test.csv',parse_dates=['timestamp'])\n",
    "\n",
    "macro_cols = vif.feature.values\n",
    "#macro_cols = [\"balance_trade\", \"balance_trade_growth\", \"eurrub\", \"average_provision_of_build_contract\",\n",
    "#\"micex_rgbi_tr\", \"micex_cbi_tr\", \"deposits_rate\", \"mortgage_value\", \"mortgage_rate\",\n",
    "#\"income_per_cap\", \"rent_price_4+room_bus\", \"museum_visitis_per_100_cap\", \"apartment_build\"]\n",
    "\n",
    "df_macro = pd.read_csv('data/macro.csv',usecols=list(macro_cols)+['timestamp'])\n",
    "\n",
    "Ylog_train = np.log1p(df_train.price_doc)\n",
    "df_train.drop(['id','price_doc'],axis = 1,inplace = True)\n",
    "\n",
    "test_id = df_test.id\n",
    "df_test.drop(['id'],axis=1,inplace=True)\n",
    "\n",
    "df_all = pd.concat([df_train,df_test])\n",
    "df_all = pd.merge(df_all,df_macro,how='left',on='timestamp')\n",
    "\n",
    "# Add month-year\n",
    "month_year = (df_all.timestamp.dt.month + df_all.timestamp.dt.year * 100)\n",
    "month_year_cnt_map = month_year.value_counts().to_dict()\n",
    "df_all['month_year_cnt'] = month_year.map(month_year_cnt_map)\n",
    "\n",
    "# Add week-year count\n",
    "week_year = (df_all.timestamp.dt.weekofyear + df_all.timestamp.dt.year * 100)\n",
    "week_year_cnt_map = week_year.value_counts().to_dict()\n",
    "df_all['week_year_cnt'] = week_year.map(week_year_cnt_map)\n",
    "\n",
    "# Add month and day-of-week\n",
    "df_all['month'] = df_all.timestamp.dt.month\n",
    "df_all['dow'] = df_all.timestamp.dt.dayofweek\n",
    "\n",
    "# Other feature engineering\n",
    "df_all['rel_floor'] = df_all['floor'] / df_all['max_floor'].astype(float)\n",
    "df_all['rel_kitch_sq'] = df_all['kitch_sq'] / df_all['full_sq'].astype(float)\n",
    "\n",
    "\n",
    "df_all.drop(['timestamp'],axis=1,inplace=True)\n",
    "\n",
    "print('The shape of df_train data:'+str(df_train.shape))\n",
    "print('The shape of df_test data:'+str(df_test.shape))\n",
    "print('The shape of df_all data:'+str(df_all.shape))"
   ]
  },
  {
   "cell_type": "code",
   "execution_count": 274,
   "metadata": {
    "collapsed": false
   },
   "outputs": [],
   "source": [
    "# cleaning the life_sq and full_sq\n",
    "df_all.loc[df_all.life_sq==1,'life_sq'] = np.nan\n",
    "df_all.loc[df_all.life_sq==0,'life_sq'] = np.nan\n",
    "df_all.loc[df_all.life_sq>2000,'life_sq'] = np.nan\n",
    "df_all.loc[df_all.full_sq==1,'full_sq'] = np.nan\n",
    "df_all.loc[df_all.full_sq==0,'full_sq'] = np.nan\n",
    "df_all.loc[df_all.full_sq>2000,'full_sq'] = np.nan\n",
    "# cleaning the data where life_sq>full_sq\n",
    "df_all.loc[df_all.life_sq>df_all.full_sq,['life_sq','full_sq']]=np.nan"
   ]
  },
  {
   "cell_type": "code",
   "execution_count": 275,
   "metadata": {
    "collapsed": false,
    "scrolled": true
   },
   "outputs": [],
   "source": [
    "numeric_list = []\n",
    "nominal_list = []\n",
    "numeric_list = df_all.select_dtypes(exclude=['object']).columns\n",
    "nominal_list = df_all.select_dtypes(include=['object']).columns\n",
    "df_numeric = df_all[numeric_list]\n",
    "df_nominal = df_all[nominal_list]"
   ]
  },
  {
   "cell_type": "code",
   "execution_count": 276,
   "metadata": {
    "collapsed": false,
    "scrolled": true
   },
   "outputs": [],
   "source": [
    "#fill na values \n",
    "def most_common(lst):\n",
    "    return max(set(lst), key=lst.count)\n",
    "#for nominal_key in nominal_list:\n",
    "#    common_forna = most_common(list(df_all[nominal_key].dropna()))\n",
    "#    df_nominal[nominal_key].fillna(common_forna,inplace=True)\n",
    "#for numeric_key in numeric_list:\n",
    "#    median_forna = df_all[numeric_key].median()\n",
    "#    df_numeric[numeric_key].fillna(median_forna,inplace=True)"
   ]
  },
  {
   "cell_type": "code",
   "execution_count": 277,
   "metadata": {
    "collapsed": false,
    "scrolled": true
   },
   "outputs": [
    {
     "name": "stdout",
     "output_type": "stream",
     "text": [
      "The shape of df_train:(30471, 464)\n",
      "The shape of df_test:(7662, 464)\n"
     ]
    }
   ],
   "source": [
    "new_df_nominal = pd.DataFrame()\n",
    "labelencoder = LabelEncoder()\n",
    "#for nominal_key in df_nominal.keys():\n",
    "#    #new_df_nominal[nominal_key] = labelencoder.fit_transform(df_nominal[nominal_key])\n",
    "#    new_df_nominal[nominal_key] = pd.factorize(df_nominal[nominal_key])[0]\n",
    "#onehotencoder = OneHotEncoder(sparse=False)\n",
    "#onehotencoder.fit(new_df_nominal)\n",
    "#new_df_nominal = onehotencoder.transform(new_df_nominal)\n",
    "new_df_nominal = pd.get_dummies(df_nominal)\n",
    "df_all = pd.concat([new_df_nominal,df_numeric],axis=1)\n",
    "df_train = df_all[:num_train]\n",
    "df_test = df_all[num_train:]\n",
    "\n",
    "\n",
    "#scaler = StandardScaler()\n",
    "#df_train_norm = pd.DataFrame(scaler.fit_transform(df_train),columns=df_train.columns)\n",
    "\n",
    "#df_test_norm = pd.DataFrame(scaler.transform(df_test),columns=df_test.columns)\n",
    "\n",
    "print('The shape of df_train:' + str(df_train.shape))\n",
    "print('The shape of df_test:'+str(df_test.shape))"
   ]
  },
  {
   "cell_type": "code",
   "execution_count": 278,
   "metadata": {
    "collapsed": false
   },
   "outputs": [
    {
     "name": "stdout",
     "output_type": "stream",
     "text": [
      "The shape of X_train data:(28947, 464)\n",
      "The shape of X_val data:(1524, 464)\n"
     ]
    }
   ],
   "source": [
    "# Training validation split\n",
    "X_train,X_val,Y_train,Y_val = train_test_split(df_train,Ylog_train,test_size=0.05)\n",
    "print('The shape of X_train data:' + str(X_train.shape))\n",
    "print('The shape of X_val data:'+str(X_val.shape))\n",
    "global X_DIM \n",
    "X_DIM = X_train.shape[1]"
   ]
  },
  {
   "cell_type": "markdown",
   "metadata": {},
   "source": [
    "# Training the model (XGB)"
   ]
  },
  {
   "cell_type": "code",
   "execution_count": 279,
   "metadata": {
    "collapsed": false
   },
   "outputs": [],
   "source": [
    "def rmsl(y,ypred):\n",
    "    'function that calculate the Root Mean Squared Logarithmic Error'\n",
    "    return np.sqrt(np.mean(np.square(y-ypred)))\n",
    "def save_result(index,price_doc,filename):\n",
    "    'function that store the result y_pred into file with name filename'\n",
    "    result_df = pd.DataFrame({'id':index,'price_doc':price_doc})\n",
    "    result_df.to_csv(filename,header=True,index=False)"
   ]
  },
  {
   "cell_type": "code",
   "execution_count": 280,
   "metadata": {
    "collapsed": false
   },
   "outputs": [],
   "source": [
    "xgb_params = {\n",
    "    'eta': 0.02,\n",
    "    'max_depth': 5,\n",
    "    'subsample': 0.9,\n",
    "    'colsample_bytree': 0.9,\n",
    "    'lambda':1.1,\n",
    "    'objective': 'reg:linear',\n",
    "    'eval_metric': 'rmse',\n",
    "    'silent': 0\n",
    "}\n",
    "dtrain = xgb.DMatrix(X_train, Y_train)\n",
    "dtrain_total = xgb.DMatrix(df_train,Ylog_train)\n",
    "dval = xgb.DMatrix(X_val,Y_val)\n",
    "dtest = xgb.DMatrix(df_test)"
   ]
  },
  {
   "cell_type": "code",
   "execution_count": 281,
   "metadata": {
    "collapsed": false
   },
   "outputs": [
    {
     "name": "stdout",
     "output_type": "stream",
     "text": [
      "[0]\ttrain-rmse:14.8204+0.000883068\ttest-rmse:14.8204+0.00178301\n",
      "[20]\ttrain-rmse:9.90289+0.000670607\ttest-rmse:9.90291+0.00209725\n",
      "[40]\ttrain-rmse:6.62272+0.000489245\ttest-rmse:6.62286+0.00241741\n",
      "[60]\ttrain-rmse:4.4373+0.000495765\ttest-rmse:4.43776+0.00245367\n",
      "[80]\ttrain-rmse:2.9843+0.000444204\ttest-rmse:2.98582+0.00240957\n",
      "[100]\ttrain-rmse:2.023+0.00052246\ttest-rmse:2.02603+0.00238997\n",
      "[120]\ttrain-rmse:1.39334+0.000706292\ttest-rmse:1.39897+0.0023763\n",
      "[140]\ttrain-rmse:0.989169+0.000931836\ttest-rmse:0.99876+0.00247178\n",
      "[160]\ttrain-rmse:0.739133+0.00124079\ttest-rmse:0.753652+0.00276776\n",
      "[180]\ttrain-rmse:0.592602+0.00152099\ttest-rmse:0.612696+0.0031098\n",
      "[200]\ttrain-rmse:0.511924+0.00191381\ttest-rmse:0.537199+0.00343529\n",
      "[220]\ttrain-rmse:0.469333+0.00190744\ttest-rmse:0.499258+0.00385235\n",
      "[240]\ttrain-rmse:0.447005+0.00203103\ttest-rmse:0.480727+0.00399844\n",
      "[260]\ttrain-rmse:0.435199+0.00209307\ttest-rmse:0.471976+0.00392785\n",
      "[280]\ttrain-rmse:0.427958+0.00212964\ttest-rmse:0.467568+0.00396474\n",
      "[300]\ttrain-rmse:0.423091+0.00213\ttest-rmse:0.465248+0.00405497\n",
      "[320]\ttrain-rmse:0.419236+0.00223258\ttest-rmse:0.463949+0.00399289\n",
      "[340]\ttrain-rmse:0.415833+0.0022271\ttest-rmse:0.463091+0.00402662\n",
      "[360]\ttrain-rmse:0.413085+0.00221293\ttest-rmse:0.462534+0.00391937\n",
      "[380]\ttrain-rmse:0.410637+0.00229716\ttest-rmse:0.462166+0.0038954\n",
      "[400]\ttrain-rmse:0.40809+0.00227838\ttest-rmse:0.461903+0.0037919\n",
      "[420]\ttrain-rmse:0.405679+0.0022603\ttest-rmse:0.461649+0.00377508\n",
      "[440]\ttrain-rmse:0.403524+0.00231031\ttest-rmse:0.461528+0.00366443\n",
      "[460]\ttrain-rmse:0.401223+0.00224495\ttest-rmse:0.461365+0.00364316\n",
      "[480]\ttrain-rmse:0.399185+0.00236912\ttest-rmse:0.461309+0.0036179\n",
      "[500]\ttrain-rmse:0.397255+0.00248827\ttest-rmse:0.46122+0.00354399\n",
      "[520]\ttrain-rmse:0.395146+0.00260951\ttest-rmse:0.461106+0.0035117\n",
      "[540]\ttrain-rmse:0.393248+0.00264002\ttest-rmse:0.461052+0.00349402\n",
      "[560]\ttrain-rmse:0.391439+0.00264554\ttest-rmse:0.461029+0.0034655\n",
      "[580]\ttrain-rmse:0.389705+0.00264031\ttest-rmse:0.460957+0.00347467\n",
      "[600]\ttrain-rmse:0.387809+0.00275369\ttest-rmse:0.460909+0.00340726\n",
      "[620]\ttrain-rmse:0.386064+0.00266102\ttest-rmse:0.460852+0.00340387\n",
      "[640]\ttrain-rmse:0.384334+0.00278511\ttest-rmse:0.460835+0.00339758\n",
      "[660]\ttrain-rmse:0.382513+0.00289941\ttest-rmse:0.460898+0.00333732\n",
      "[680]\ttrain-rmse:0.380724+0.00292108\ttest-rmse:0.460932+0.00337479\n",
      "[700]\ttrain-rmse:0.379058+0.00293106\ttest-rmse:0.460967+0.00333873\n",
      "[720]\ttrain-rmse:0.377541+0.0030532\ttest-rmse:0.460992+0.00336061\n",
      "[740]\ttrain-rmse:0.37586+0.00296922\ttest-rmse:0.460972+0.00337339\n",
      "[760]\ttrain-rmse:0.374241+0.0031063\ttest-rmse:0.461013+0.00336774\n",
      "[780]\ttrain-rmse:0.372611+0.00299638\ttest-rmse:0.461038+0.00335504\n"
     ]
    },
    {
     "data": {
      "text/plain": [
       "<matplotlib.axes._subplots.AxesSubplot at 0x11467ff28>"
      ]
     },
     "execution_count": 281,
     "metadata": {},
     "output_type": "execute_result"
    },
    {
     "data": {
      "image/png": "[encoded data removed]",
      "text/plain": [
       "<matplotlib.figure.Figure at 0x115a35748>"
      ]
     },
     "metadata": {},
     "output_type": "display_data"
    }
   ],
   "source": [
    "#model = xgb.train(dict(xgb_params), dtrain, num_boost_round=1000,\n",
    "#                  evals=[(dtrain,'train'),(dval, 'val')],verbose_eval=20)\n",
    "model = xgb.cv(dict(xgb_params), dtrain, num_boost_round=800,nfold=3,\n",
    "                  verbose_eval=20)\n",
    "model[['train-rmse-mean', 'test-rmse-mean']].plot(ylim=(0,1))"
   ]
  },
  {
   "cell_type": "code",
   "execution_count": null,
   "metadata": {
    "collapsed": true
   },
   "outputs": [],
   "source": [
    "model = xgb.cv(dict(xgb_params), dtrain, num_boost_round=800,nfold=3,\n",
    "                  verbose_eval=20)\n",
    "model[['train-rmse-mean', 'test-rmse-mean']].plot(ylim=(0,1))"
   ]
  },
  {
   "cell_type": "code",
   "execution_count": 127,
   "metadata": {
    "collapsed": false,
    "scrolled": true
   },
   "outputs": [
    {
     "name": "stdout",
     "output_type": "stream",
     "text": [
      "[0]\ttrain_total-rmse:14.8195\n",
      "[50]\ttrain_total-rmse:5.41862\n",
      "[100]\ttrain_total-rmse:2.02307\n",
      "[150]\ttrain_total-rmse:0.851439\n",
      "[200]\ttrain_total-rmse:0.520102\n",
      "[250]\ttrain_total-rmse:0.45185\n",
      "[300]\ttrain_total-rmse:0.436589\n",
      "[350]\ttrain_total-rmse:0.429895\n",
      "[400]\ttrain_total-rmse:0.424547\n",
      "[450]\ttrain_total-rmse:0.420232\n",
      "[500]\ttrain_total-rmse:0.416235\n",
      "[550]\ttrain_total-rmse:0.412608\n",
      "[600]\ttrain_total-rmse:0.409186\n",
      "[650]\ttrain_total-rmse:0.40574\n",
      "[700]\ttrain_total-rmse:0.402296\n",
      "[750]\ttrain_total-rmse:0.398903\n"
     ]
    }
   ],
   "source": [
    "model = xgb.train(dict(xgb_params), dtrain_total, num_boost_round=800,\n",
    "                  evals=[(dtrain_total,'train_total')],verbose_eval=50)"
   ]
  },
  {
   "cell_type": "code",
   "execution_count": 128,
   "metadata": {
    "collapsed": false
   },
   "outputs": [],
   "source": [
    "f_score = model.get_fscore()\n",
    "high_score = dict()\n",
    "for feature in f_score:\n",
    "    if(f_score[feature]>100):\n",
    "        high_score[feature] = f_score[feature]"
   ]
  },
  {
   "cell_type": "code",
   "execution_count": 129,
   "metadata": {
    "collapsed": false
   },
   "outputs": [
    {
     "data": {
      "text/plain": [
       "<matplotlib.axes._subplots.AxesSubplot at 0x1179bfda0>"
      ]
     },
     "execution_count": 129,
     "metadata": {},
     "output_type": "execute_result"
    },
    {
     "data": {
      "image/png": "[encoded data removed]",
      "text/plain": [
       "<matplotlib.figure.Figure at 0x11a9d1908>"
      ]
     },
     "metadata": {},
     "output_type": "display_data"
    }
   ],
   "source": [
    "fig, ax = plt.subplots(1, 1, figsize=(8, 12))\n",
    "xgb.plot_importance(high_score, height=0.5, ax=ax)"
   ]
  },
  {
   "cell_type": "code",
   "execution_count": 130,
   "metadata": {
    "collapsed": false
   },
   "outputs": [],
   "source": [
    "ylog_pred = model.predict(dtest)\n",
    "y_pred = np.exp(ylog_pred)-1\n",
    "save_result(test_id,y_pred,'output/xgb.csv')"
   ]
  },
  {
   "cell_type": "markdown",
   "metadata": {},
   "source": [
    "# Training the model (NN)"
   ]
  },
  {
   "cell_type": "code",
   "execution_count": 274,
   "metadata": {
    "collapsed": false
   },
   "outputs": [
    {
     "name": "stdout",
     "output_type": "stream",
     "text": [
      "Train on 28947 samples, validate on 1524 samples\n",
      "Epoch 1/20\n",
      "28947/28947 [==============================] - 79s - loss: 262.6842 - val_loss: 15.1469\n",
      "Epoch 2/20\n",
      "28947/28947 [==============================] - 75s - loss: 188.2956 - val_loss: 14.3599\n",
      "Epoch 3/20\n",
      "28947/28947 [==============================] - 75s - loss: 136.0844 - val_loss: 13.0657\n",
      "Epoch 4/20\n",
      "28947/28947 [==============================] - 77s - loss: 98.6843 - val_loss: 11.6033\n",
      "Epoch 5/20\n",
      "28947/28947 [==============================] - 76s - loss: 71.5842 - val_loss: 9.9481\n",
      "Epoch 6/20\n",
      "28947/28947 [==============================] - 76s - loss: 52.2804 - val_loss: 7.6526\n",
      "Epoch 7/20\n",
      "28947/28947 [==============================] - 76s - loss: 37.7615 - val_loss: 5.1564\n",
      "Epoch 8/20\n",
      "28947/28947 [==============================] - 76s - loss: 26.5161 - val_loss: 2.8911\n",
      "Epoch 9/20\n",
      "28947/28947 [==============================] - 76s - loss: 17.7445 - val_loss: 0.6443\n",
      "Epoch 10/20\n",
      "28947/28947 [==============================] - 76s - loss: 12.0963 - val_loss: 0.4052\n",
      "Epoch 11/20\n",
      "28947/28947 [==============================] - 76s - loss: 8.8350 - val_loss: 0.3570\n",
      "Epoch 12/20\n",
      "28947/28947 [==============================] - 76s - loss: 6.5621 - val_loss: 0.2908\n",
      "Epoch 13/20\n",
      "28947/28947 [==============================] - 76s - loss: nan - val_loss: nan\n",
      "Epoch 14/20\n",
      "28947/28947 [==============================] - 76s - loss: nan - val_loss: nan\n",
      "Epoch 15/20\n",
      "28947/28947 [==============================] - 76s - loss: nan - val_loss: nan\n",
      "Epoch 16/20\n",
      "28947/28947 [==============================] - 76s - loss: nan - val_loss: nan\n",
      "Epoch 17/20\n",
      "28947/28947 [==============================] - 77s - loss: nan - val_loss: nan\n",
      "Epoch 18/20\n",
      "28947/28947 [==============================] - 76s - loss: nan - val_loss: nan\n",
      "Epoch 19/20\n",
      "28947/28947 [==============================] - 76s - loss: nan - val_loss: nan\n",
      "Epoch 20/20\n",
      "28947/28947 [==============================] - 76s - loss: nan - val_loss: nan\n"
     ]
    },
    {
     "data": {
      "text/plain": [
       "<keras.callbacks.History at 0x23e9e8e10>"
      ]
     },
     "execution_count": 274,
     "metadata": {},
     "output_type": "execute_result"
    }
   ],
   "source": [
    "def reject_outliers(data, m=2):\n",
    "    return data[abs(data - np.mean(data)) < m * np.std(data)]\n",
    "\n",
    "\n",
    "def rms(y,ypred):\n",
    "    'function that calculate the Root Mean Squared '\n",
    "    return np.sqrt(np.mean(np.square(y-ypred)))\n",
    "### define baseline model\n",
    "\n",
    "def root_mean_squared_error(y_true, y_pred):\n",
    "        return K.sqrt(K.mean(K.square(y_pred - y_true), axis=-1)) \n",
    "\n",
    "def baseline_model(X_dim_input=X_DIM):\n",
    "    #create model\n",
    "    model = Sequential()\n",
    "    #add layers\n",
    "    model.add(Dense(2000,input_dim=X_dim_input,init='normal',activation='relu',\n",
    "                    W_regularizer=regularizers.l2(0.1),b_regularizer=regularizers.l2(0.01)))\n",
    "    model.add(BatchNormalization())\n",
    "    model.add(Dense(1000,input_dim=X_dim_input,init='normal',activation='relu',\n",
    "                    W_regularizer=regularizers.l2(0.01),b_regularizer=regularizers.l2(0.01)))\n",
    "    model.add(BatchNormalization())\n",
    "    model.add(Dense(600,input_dim=X_dim_input,init='normal',activation='relu',\n",
    "                    W_regularizer=regularizers.l2(0.01),b_regularizer=regularizers.l2(0.01)))\n",
    "    model.add(BatchNormalization())\n",
    "    #model.add(Dropout(0.1))\n",
    "    #model.add(Dense(300,init='normal',activation = 'relu'))\n",
    "    #model.add(BatchNormalization())\n",
    "    model.add(Dense(1,init = 'normal')\n",
    "    #compile model\n",
    "    adam = optimizers.adam(lr=0.00005)\n",
    "    #sgd = optimizers.sgd(lr=0.0002, decay=1e-6, momentum=0.9, nesterov=False)\n",
    "    model.compile(loss=root_mean_squared_error, optimizer=adam)\n",
    "    return model\n",
    "\n",
    "\n",
    "# fix random seed for reproducibility\n",
    "seed = 8\n",
    "np.random.seed(seed)\n",
    "# evaluate model with standardized dataset\n",
    "estimator = []\n",
    "#estimator.append(('standardize',StandardScaler()))\n",
    "estimator.append(('mlp',KerasRegressor(build_fn=baseline_model, nb_epoch=4, batch_size=32, verbose=1)))\n",
    "pipeline = Pipeline(estimator)\n",
    "\n",
    "#figure out rough parameters before CV\n",
    "nn_model = baseline_model()\n",
    "nn_model.fit(X_train.values,Y_train.values,nb_epoch=20,\n",
    "             batch_size=128,validation_data = (X_val.values,Y_val) ,verbose=1)\n",
    "\n",
    "#Cross validation\n",
    "#kfold = KFold(n=28947,n_folds=3, random_state=seed)\n",
    "#results = cross_val_score(pipeline, df_train, Ylog_train, cv=kfold,n_jobs=1)"
   ]
  },
  {
   "cell_type": "code",
   "execution_count": 272,
   "metadata": {
    "collapsed": false
   },
   "outputs": [],
   "source": [
    "def save_keras_result(test_id,y_pred,filename):\n",
    "    y_pred = y_pred.flatten()\n",
    "    df = pd.DataFrame({'id':test_id,'price_doc':y_pred})\n",
    "    df.to_csv(filename,header = True,index=False)\n",
    "ylog_pred = nn_model.predict(df_test_norm.values,batch_size=128)\n",
    "y_pred = np.exp(ylog_pred)-1\n",
    "save_keras_result(test_id,y_pred,'output/keras.csv')"
   ]
  },
  {
   "cell_type": "code",
   "execution_count": 270,
   "metadata": {
    "collapsed": false
   },
   "outputs": [
    {
     "data": {
      "text/plain": [
       "0.5316875870594362"
      ]
     },
     "execution_count": 270,
     "metadata": {},
     "output_type": "execute_result"
    }
   ],
   "source": [
    "y_pred_val= nn_model.predict(X_val.values,batch_size=128)\n",
    "rms(y_pred_val.flatten(),Y_val)"
   ]
  },
  {
   "cell_type": "code",
   "execution_count": 271,
   "metadata": {
    "collapsed": false
   },
   "outputs": [
    {
     "data": {
      "text/plain": [
       "0.49412378362071963"
      ]
     },
     "execution_count": 271,
     "metadata": {},
     "output_type": "execute_result"
    }
   ],
   "source": [
    "y_pred_train= nn_model.predict(X_train.values,batch_size=128)\n",
    "rms(y_pred_train.flatten(),Y_train)"
   ]
  },
  {
   "cell_type": "code",
   "execution_count": 245,
   "metadata": {
    "collapsed": false
   },
   "outputs": [
    {
     "data": {
      "text/plain": [
       "array([[ 15.44769001],\n",
       "       [ 15.98673344],\n",
       "       [ 14.92558384],\n",
       "       ..., \n",
       "       [ 15.13845253],\n",
       "       [ 15.53470325],\n",
       "       [ 15.71343708]])"
      ]
     },
     "execution_count": 245,
     "metadata": {},
     "output_type": "execute_result"
    }
   ],
   "source": [
    "ylog_pred"
   ]
  }
 ],
 "metadata": {
  "kernelspec": {
   "display_name": "Python 3",
   "language": "python",
   "name": "python3"
  },
  "language_info": {
   "codemirror_mode": {
    "name": "ipython",
    "version": 3
   },
   "file_extension": ".py",
   "mimetype": "text/x-python",
   "name": "python",
   "nbconvert_exporter": "python",
   "pygments_lexer": "ipython3",
   "version": "3.5.2"
  }
 },
 "nbformat": 4,
 "nbformat_minor": 0
}
